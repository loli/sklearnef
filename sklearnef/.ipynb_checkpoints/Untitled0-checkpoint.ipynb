{
 "metadata": {
  "name": ""
 },
 "nbformat": 3,
 "nbformat_minor": 0,
 "worksheets": [
  {
   "cells": [
    {
     "cell_type": "code",
     "collapsed": false,
     "input": [
      "%load_ext cythonmagic"
     ],
     "language": "python",
     "metadata": {},
     "outputs": [
      {
       "output_type": "stream",
       "stream": "stdout",
       "text": [
        "The cythonmagic extension is already loaded. To reload it, use:\n",
        "  %reload_ext cythonmagic\n"
       ]
      }
     ],
     "prompt_number": 3
    },
    {
     "cell_type": "code",
     "collapsed": false,
     "input": [
      "%%cython\n",
      "\n",
      "cdef int a = 0\n",
      "for i in range(10):\n",
      "    a += i\n",
      "print a"
     ],
     "language": "python",
     "metadata": {},
     "outputs": [
      {
       "output_type": "stream",
       "stream": "stdout",
       "text": [
        "45\n"
       ]
      }
     ],
     "prompt_number": 5
    },
    {
     "cell_type": "code",
     "collapsed": false,
     "input": [
      "%%cython\n",
      "\n",
      "cimport sklearn.tree._tree\n",
      "import sklearn.tree._tree\n",
      "from sklearn.tree._tree cimport Criterion"
     ],
     "language": "python",
     "metadata": {},
     "outputs": [
      {
       "output_type": "stream",
       "stream": "stderr",
       "text": [
        "\n",
        "Error compiling Cython file:\n",
        "------------------------------------------------------------\n",
        "...\n",
        "\n",
        "cimport sklearn.tree._tree\n",
        "       ^\n",
        "------------------------------------------------------------\n",
        "\n",
        "/home/maier/.cache/ipython/cython/_cython_magic_864d50feb114e2794c5d81fb6eba4cb8.pyx:2:8: 'sklearn/tree/_tree.pxd' not found\n",
        "\n",
        "Error compiling Cython file:\n",
        "------------------------------------------------------------\n",
        "...\n",
        "\n",
        "cimport sklearn.tree._tree\n",
        "from sklearn.tree._tree cimport Criterion\n",
        "^\n",
        "------------------------------------------------------------\n",
        "\n",
        "/home/maier/.cache/ipython/cython/_cython_magic_864d50feb114e2794c5d81fb6eba4cb8.pyx:3:0: 'Criterion.pxd' not found\n",
        "\n",
        "Error compiling Cython file:\n",
        "------------------------------------------------------------\n",
        "...\n",
        "\n",
        "cimport sklearn.tree._tree\n",
        "from sklearn.tree._tree cimport Criterion\n",
        "                               ^\n",
        "------------------------------------------------------------\n",
        "\n",
        "/home/maier/.cache/ipython/cython/_cython_magic_864d50feb114e2794c5d81fb6eba4cb8.pyx:3:32: Name 'Criterion' not declared in module 'sklearn.tree._tree'\n"
       ]
      }
     ],
     "prompt_number": 14
    },
    {
     "cell_type": "code",
     "collapsed": false,
     "input": [
      "Criterion"
     ],
     "language": "python",
     "metadata": {},
     "outputs": [
      {
       "metadata": {},
       "output_type": "pyout",
       "prompt_number": 10,
       "text": [
        "sklearn.tree._tree.Criterion"
       ]
      }
     ],
     "prompt_number": 10
    },
    {
     "cell_type": "code",
     "collapsed": false,
     "input": [],
     "language": "python",
     "metadata": {},
     "outputs": []
    }
   ],
   "metadata": {}
  }
 ]
}